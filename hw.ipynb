{
 "cells": [
  {
   "cell_type": "code",
   "execution_count": 9,
   "metadata": {},
   "outputs": [
    {
     "name": "stdout",
     "output_type": "stream",
     "text": [
      "le area of le circle is le 1017.876 cm^2\n"
     ]
    }
   ],
   "source": [
    "#1 Write a Python program which accepts the radius of a circle from the user and compute the area\n",
    "import math\n",
    "\n",
    "radius = eval(input(\"enter the radius of the circle: \"))\n",
    "\n",
    "area = math.pi * (radius**2)\n",
    "\n",
    "print(\"le area of le circle is le\" , round(area,3),\"cm^2\")  \n"
   ]
  },
  {
   "cell_type": "code",
   "execution_count": 10,
   "metadata": {},
   "outputs": [
    {
     "name": "stdout",
     "output_type": "stream",
     "text": [
      " your Name in reverse is:   18\n"
     ]
    }
   ],
   "source": [
    "#2 Write a Python program which accepts the user's first and last name and print them in reverse order with a space between them.\n",
    "\n",
    "#just testing out lists for fun\n",
    "name=[]\n",
    "\n",
    "Fname=input(\"enter your first name: \")\n",
    "Lname=input(\"enter your last name: \")\n",
    "\n",
    "name.append(Fname)\n",
    "name.append(Lname)\n",
    "\n",
    "name.reverse()\n",
    "\n",
    "print(\" your Name in reverse is: \", name[0], name[1])\n"
   ]
  },
  {
   "cell_type": "code",
   "execution_count": 11,
   "metadata": {},
   "outputs": [
    {
     "name": "stdout",
     "output_type": "stream",
     "text": [
      "Red\n",
      "Green\n",
      "White\n",
      "Black\n"
     ]
    }
   ],
   "source": [
    "#3 Write a Python program to display the first and last colors from the following list.\n",
    "color_list = [\"Red\",\"Green\",\"White\",\"Black\"]\n",
    "\n",
    "for x in color_list:\n",
    "    print(x)"
   ]
  },
  {
   "cell_type": "code",
   "execution_count": 93,
   "metadata": {},
   "outputs": [
    {
     "name": "stdout",
     "output_type": "stream",
     "text": [
      "84\n"
     ]
    }
   ],
   "source": [
    "#4 Write a Python program that accepts an integer (n) and computes the value of n+nn+nnn.\n",
    "\n",
    "number=eval(input(\"enter an integer: \"))\n",
    "\n",
    "answer=number+(number**2)+(number**3)\n",
    "print(answer)"
   ]
  },
  {
   "cell_type": "code",
   "execution_count": 94,
   "metadata": {},
   "outputs": [
    {
     "name": "stdout",
     "output_type": "stream",
     "text": [
      "the volume of a circle with a radius of 6 is:  904.7786842338603\n"
     ]
    }
   ],
   "source": [
    "#5 Write a Python program to get the volume of a sphere with radius 6. \n",
    "# The volume of the sphere is : V = 4/3 × π × r3 = π × d3/6.\n",
    "import math\n",
    "#radius=input(\"enter radius of sphere: \") #can be any number of radius\n",
    "radius=6 #more specific radius to the question above\n",
    "volume = (4/3) * math.pi * (radius**3)\n",
    "print(\"the volume of a circle with a radius of 6 is: \", volume)\n"
   ]
  },
  {
   "cell_type": "code",
   "execution_count": 95,
   "metadata": {},
   "outputs": [
    {
     "ename": "SyntaxError",
     "evalue": "unexpected EOF while parsing (<string>, line 0)",
     "output_type": "error",
     "traceback": [
      "Traceback \u001b[1;36m(most recent call last)\u001b[0m:\n",
      "\u001b[0m  File \u001b[0;32m~\\AppData\\Roaming\\Python\\Python38\\site-packages\\IPython\\core\\interactiveshell.py:3378\u001b[0m in \u001b[0;35mrun_code\u001b[0m\n    exec(code_obj, self.user_global_ns, self.user_ns)\u001b[0m\n",
      "\u001b[1;36m  Cell \u001b[1;32mIn [95], line 3\u001b[1;36m\n\u001b[1;33m    number=eval(input(\"enter a number to get the difference between a given number and 17: \"))\u001b[1;36m\n",
      "\u001b[1;36m  File \u001b[1;32m<string>\u001b[1;36m\u001b[0m\n\u001b[1;33m    \u001b[0m\n\u001b[1;37m    ^\u001b[0m\n\u001b[1;31mSyntaxError\u001b[0m\u001b[1;31m:\u001b[0m unexpected EOF while parsing\n"
     ]
    }
   ],
   "source": [
    "#6 Write a Python program to get the difference between a given number and 17, if the number is greater than 17 return double the absolute difference.\n",
    "\n",
    "number=eval(input(\"enter a number to get the difference between a given number and 17: \"))\n",
    "\n",
    "if(number<17):\n",
    "    answer=number-17\n",
    "    print(answer)\n",
    "else:\n",
    "    answer=(number-17)*2\n",
    "    print(answer)\n"
   ]
  },
  {
   "cell_type": "code",
   "execution_count": null,
   "metadata": {},
   "outputs": [
    {
     "name": "stdout",
     "output_type": "stream",
     "text": [
      "the sum of the the three numbers is  90\n"
     ]
    }
   ],
   "source": [
    "#7 Write a Python program to calculate the sum of three given numbers, if the values are equal then return thrice of their sum.\n",
    "\n",
    "number1,number2,number3=eval(input(\"enter 3 numbers (num1,num2,num3 format): \"))\n",
    "\n",
    "#trying out functions \n",
    "def is_equal(number1, number2,number3):\n",
    "    if number1==number2==number3:\n",
    "        answer=(number1+number2+number3)*3\n",
    "        print(\"the sum of the the three numbers is \",answer)\n",
    "    else:\n",
    "        answer=(number1+number2+number3)\n",
    "        print(\"the sum of the the three numbers is \",answer)\n",
    "    \n",
    "is_equal(number1, number2,number3)\n"
   ]
  },
  {
   "cell_type": "code",
   "execution_count": null,
   "metadata": {},
   "outputs": [
    {
     "name": "stdout",
     "output_type": "stream",
     "text": [
      "the number you entered is odd\n"
     ]
    }
   ],
   "source": [
    "#8 Write a Python program to find whether a given number (accept from the user) is even or odd, print out an appropriate message to the user\n",
    "\n",
    "number = eval(input(\"enter a number to decide whether a given number is even or odd:\"))\n",
    "\n",
    "if number % 2 == 0:\n",
    "    print(\"the number you entered is even\")\n",
    "else:\n",
    "    print(\"the number you entered is odd\")"
   ]
  },
  {
   "cell_type": "code",
   "execution_count": null,
   "metadata": {},
   "outputs": [
    {
     "name": "stdout",
     "output_type": "stream",
     "text": [
      "its not a vowel\n"
     ]
    }
   ],
   "source": [
    "#9 Write a Python program to test whether a letter is a vowel or not\n",
    "\n",
    "vowel=[\"A\",\"E\",\"I\",\"O\",\"U\"]\n",
    "letter=input(\"enter a letter: \")\n",
    "letter = letter.capitalize()\n",
    "\n",
    "if letter in vowel:\n",
    "    print(\"its a vowel\")\n",
    "else:\n",
    "    print(\"its not a vowel\")\n"
   ]
  },
  {
   "cell_type": "code",
   "execution_count": null,
   "metadata": {},
   "outputs": [
    {
     "name": "stdout",
     "output_type": "stream",
     "text": [
      "value is in group\n"
     ]
    }
   ],
   "source": [
    "#10 Write a Python program to check whether a specified value is contained in a group of values\n",
    "\n",
    "#playing with functions \n",
    "def is_contained_in_group(group, value):\n",
    "    if value in group:\n",
    "        print(\"value is in group\")\n",
    "    else:\n",
    "        print(\"value is not in group\")\n",
    "    \n",
    "group=[1,2,4,3,456,234,56]\n",
    "value=eval(input(\"enter a number: \"))\n",
    "\n",
    "is_contained_in_group(group,value)"
   ]
  },
  {
   "cell_type": "code",
   "execution_count": null,
   "metadata": {},
   "outputs": [
    {
     "data": {
      "image/png": "[encoded data removed]",
      "text/plain": [
       "<Figure size 640x480 with 1 Axes>"
      ]
     },
     "metadata": {},
     "output_type": "display_data"
    }
   ],
   "source": [
    "#11 Write a Python program to create a histogram from a given list of integers.\n",
    "\n",
    "import matplotlib.pyplot as plt\n",
    "data = [1,1,1,2,2,2,3,3,3,3,3,3,3,3,3,3,3,3,4,4,4,4,4,5,5,5,5,5,6,6,6,7,7,7,7,7,8,8,8,8,9,9,9,9,9,10,10,10]\n",
    "plt.hist(data)\n",
    "plt.show()\n"
   ]
  },
  {
   "cell_type": "code",
   "execution_count": null,
   "metadata": {},
   "outputs": [
    {
     "name": "stdout",
     "output_type": "stream",
     "text": [
      "the even numbers in the list are:  [386, 462, 418, 344, 236, 566, 978, 328, 162, 758, 918, 412, 566, 826, 248, 866, 950, 626, 104, 58, 512, 24, 892, 894, 742, 958]\n"
     ]
    }
   ],
   "source": [
    "#12 .Write a Python program to print all even numbers from a given numbers list in the same order.\n",
    "# Sample numbers list :\n",
    "numbers = [386,462,47,418,907,344,236,375,823,566,597,978,328,615,953,345,399, 162, 758, 219, 918, 237, 412,\n",
    " 566, 826, 248, 866, 950, 626, 949, 687, 217, 815, 67, 104, 58, 512, 24, 892, 894, 767, 553, 81, 379, 843, 831, 445, 742, 717, 958,743, 527]\n",
    "\n",
    "even = [] \n",
    "odd = []\n",
    "\n",
    "for x in numbers: # x is the value in the list  \n",
    "    temp= x % 2\n",
    "    if temp == 0:\n",
    "        even.append(x)\n",
    "    elif temp != 0:\n",
    "        odd.append(x)\n",
    "    \n",
    "print(\"the even numbers in the list are: \",even)"
   ]
  },
  {
   "cell_type": "code",
   "execution_count": null,
   "metadata": {},
   "outputs": [
    {
     "name": "stdout",
     "output_type": "stream",
     "text": [
      "the area of the triangle is  5.0\n"
     ]
    }
   ],
   "source": [
    "#13.Write a Python program that will accept the base and height of a triangle and compute the area\n",
    "\n",
    "base=eval(input(\"enter the base length of the triangle: \"))\n",
    "height=eval(input(\"enter the height of the triangle: \"))\n",
    "\n",
    "area= (base*height)/2\n",
    "\n",
    "print(\"the area of the triangle is \",area)"
   ]
  },
  {
   "cell_type": "code",
   "execution_count": 107,
   "metadata": {},
   "outputs": [
    {
     "name": "stdout",
     "output_type": "stream",
     "text": [
      "the lcm of 4 and 6 is 12\n"
     ]
    }
   ],
   "source": [
    "#14.Write a Python program to get the least common multiple (LCM) of two positive integers\n",
    "\n",
    "num1=eval(input(\"enter 1st no:\"))\n",
    "num2=eval(input(\"enter 2nd no:\"))\n",
    "\n",
    "if num1 > num2:\n",
    "    temp = num1\n",
    "else:\n",
    "    temp = num2\n",
    "\n",
    "while True:\n",
    "    if((temp % num1 == 0) and ( temp % num2 == 0)):\n",
    "        lcm = temp\n",
    "        break\n",
    "    temp += 1\n",
    "    \n",
    "print(f\"the lcm of {num1} and {num2} is {lcm}\")\n"
   ]
  },
  {
   "cell_type": "code",
   "execution_count": 108,
   "metadata": {},
   "outputs": [
    {
     "ename": "SyntaxError",
     "evalue": "unexpected EOF while parsing (<string>, line 0)",
     "output_type": "error",
     "traceback": [
      "Traceback \u001b[1;36m(most recent call last)\u001b[0m:\n",
      "\u001b[0m  File \u001b[0;32m~\\AppData\\Roaming\\Python\\Python38\\site-packages\\IPython\\core\\interactiveshell.py:3378\u001b[0m in \u001b[0;35mrun_code\u001b[0m\n    exec(code_obj, self.user_global_ns, self.user_ns)\u001b[0m\n",
      "\u001b[1;36m  Cell \u001b[1;32mIn [108], line 3\u001b[1;36m\n\u001b[1;33m    num1,num2,num3=eval(input(\"enter three integers (x,y,z): \"))\u001b[1;36m\n",
      "\u001b[1;36m  File \u001b[1;32m<string>\u001b[1;36m\u001b[0m\n\u001b[1;33m    \u001b[0m\n\u001b[1;37m    ^\u001b[0m\n\u001b[1;31mSyntaxError\u001b[0m\u001b[1;31m:\u001b[0m unexpected EOF while parsing\n"
     ]
    }
   ],
   "source": [
    "#15. Write a Python program to sum of three given integers. However, if two values are equal sum will be zero\n",
    "\n",
    "num1,num2,num3=eval(input(\"enter three integers (x,y,z): \"))\n",
    "\n",
    "if num1 == num2 or num1 == num3 or num2 == num3:\n",
    "    answer = 0\n",
    "else:\n",
    "    answer = num1+num2+num3\n",
    "\n",
    "print(\"the answer is \",answer)"
   ]
  },
  {
   "cell_type": "code",
   "execution_count": null,
   "metadata": {},
   "outputs": [
    {
     "name": "stdout",
     "output_type": "stream",
     "text": [
      "( 4 + 3 ) ^ 2 = 49\n"
     ]
    }
   ],
   "source": [
    "#16.Write a Python program to solve (x + y) * (x + y).\n",
    "# Sample Data : x = 4, y = 3\n",
    "# Expected Output : (4 + 3) ^ 2) = 49\n",
    "\n",
    "x=4\n",
    "y=3\n",
    "\n",
    "answer = (x + y) * (x + y)\n",
    "\n",
    "print('(',x, '+' , y,') ^ 2', '=' , answer) "
   ]
  },
  {
   "cell_type": "code",
   "execution_count": null,
   "metadata": {},
   "outputs": [
    {
     "name": "stdout",
     "output_type": "stream",
     "text": [
      "the amount after 7 years is 12722.79\n"
     ]
    }
   ],
   "source": [
    "# 17.Write a Python program to compute the future value of a specified principal amount, rate of interest, and a number of years.\n",
    "# Sample Data : amt = 10000, int = 3.5, years = 7\n",
    "# Expected Output : 12722.79\n",
    "#amount = orginal amount (1+ anual interest)^no.years \n",
    "\n",
    "amt = 10000\n",
    "int = 0.035\n",
    "years = 7\n",
    "\n",
    "amount= amt*((1 + int)**years)\n",
    "\n",
    "print(\"the amount after 7 years is\",round(amount,2))"
   ]
  },
  {
   "cell_type": "code",
   "execution_count": null,
   "metadata": {},
   "outputs": [
    {
     "name": "stdout",
     "output_type": "stream",
     "text": [
      "enter the distance between two points:  1.0\n"
     ]
    }
   ],
   "source": [
    "#18 Write a Python program to compute the distance between the points (x1, y1) and (x2, y2)\n",
    "\n",
    "import math\n",
    "\n",
    "x1,y1=eval(input(\"enter the first coordinate (x1, y1): \"))\n",
    "x2,y2=eval(input(\"enter the second coordinate (x2, y2): \"))\n",
    "\n",
    "distance= math.sqrt( ((x2-x1)**2) + ((y2-y1)**2) ) \n",
    "\n",
    "print(\"enter the distance between two points: \", distance)\n"
   ]
  },
  {
   "cell_type": "code",
   "execution_count": null,
   "metadata": {},
   "outputs": [
    {
     "name": "stdout",
     "output_type": "stream",
     "text": [
      "25\n"
     ]
    }
   ],
   "source": [
    "#19 Write a python program to sum of the first n positive integers.\n",
    "\n",
    "n=eval(input(\"enter a number: \"))\n",
    "answer = 0\n",
    "for x in range(x+1):\n",
    "    answer = answer + x\n",
    "\n",
    "print(answer)\n"
   ]
  },
  {
   "cell_type": "code",
   "execution_count": null,
   "metadata": {},
   "outputs": [
    {
     "name": "stdout",
     "output_type": "stream",
     "text": [
      "your height in cm is  175.26\n"
     ]
    }
   ],
   "source": [
    "#20 Write a Python program to convert height (in feet and inches) to centimeters\n",
    "# d(cm) = d(ft) × 30.48 + d(in) × 2.54\n",
    "\n",
    "ft = eval(input(\"enter your height in feet: \"))\n",
    "inch = eval(input(\"enter your remaining inches: \"))\n",
    "\n",
    "height_cm = (ft * 30.48) + (inch * 2.54)\n",
    "\n",
    "print(\"your height in cm is \", height_cm)"
   ]
  },
  {
   "cell_type": "code",
   "execution_count": null,
   "metadata": {},
   "outputs": [
    {
     "name": "stdout",
     "output_type": "stream",
     "text": [
      "the hypotenuse of the triangle is  10.295630140987\n"
     ]
    }
   ],
   "source": [
    "#21 Write a Python program to calculate the hypotenuse of a right angled triangle.\n",
    "\n",
    "import math\n",
    "\n",
    "op=eval(input(\"enter the oppisite length of the triangle: \"))\n",
    "adj=eval(input(\"enter the adjacency length of the triangle: \"))\n",
    "\n",
    "answer= math.sqrt((op**2)+(adj**2))\n",
    "\n",
    "print(\"the hypotenuse of the triangle is \",answer)"
   ]
  },
  {
   "cell_type": "code",
   "execution_count": null,
   "metadata": {},
   "outputs": [
    {
     "name": "stdout",
     "output_type": "stream",
     "text": [
      "You BMI is 22.857142857142858\n",
      "healthy.\n"
     ]
    }
   ],
   "source": [
    "#22 Write a Python program to calculate body mass index.\n",
    "\n",
    "\n",
    "height= eval(input(\"enter your height in cm: \"))\n",
    "weight = eval(input(\"enter your weight in kg: \"))\n",
    "\n",
    "bmi= weight / (height/100)**2\n",
    "\n",
    "print(f\"You BMI is {bmi}\")\n",
    "\n",
    "#bmi chart from internet \n",
    "if bmi <= 18.5:  \n",
    "    print(\"underweight.\")  \n",
    "elif bmi <= 24.9:  \n",
    "    print(\"healthy.\")  \n",
    "elif bmi <= 29.9:  \n",
    "    print(\"overweight.\")  \n",
    "else:  \n",
    "    print(\"obese.\")  "
   ]
  },
  {
   "cell_type": "code",
   "execution_count": null,
   "metadata": {},
   "outputs": [
    {
     "name": "stdout",
     "output_type": "stream",
     "text": [
      "the midpoint of (2, 3) and (4, 5) is (3.0, 4.0)\n"
     ]
    }
   ],
   "source": [
    "#23 Write a Python program to calculate midpoints of a line.\n",
    "\n",
    "x1,y1=eval(input(\"enter the first coordinate (x1, y1): \"))\n",
    "x2,y2=eval(input(\"enter the second coordinate (x2, y2): \"))\n",
    "\n",
    "midpoint= ((x1+x2)/2, (y1+y2)/2)\n",
    "print(f\"the midpoint of {x1,y1} and {x2,y2} is {midpoint}\")"
   ]
  },
  {
   "cell_type": "code",
   "execution_count": null,
   "metadata": {},
   "outputs": [
    {
     "name": "stdout",
     "output_type": "stream",
     "text": [
      "[2002, 2009, 2016, 2023, 2037, 2044, 2051, 2058, 2072, 2079, 2086, 2093, 2107, 2114, 2121, 2128, 2142, 2149, 2156, 2163, 2177, 2184, 2191, 2198, 2212, 2219, 2226, 2233, 2247, 2254, 2261, 2268, 2282, 2289, 2296, 2303, 2317, 2324, 2331, 2338, 2352, 2359, 2366, 2373, 2387, 2394, 2401, 2408, 2422, 2429, 2436, 2443, 2457, 2464, 2471, 2478, 2492, 2499, 2506, 2513, 2527, 2534, 2541, 2548, 2562, 2569, 2576, 2583, 2597, 2604, 2611, 2618, 2632, 2639, 2646, 2653, 2667, 2674, 2681, 2688, 2702, 2709, 2716, 2723, 2737, 2744, 2751, 2758, 2772, 2779, 2786, 2793, 2807, 2814, 2821, 2828, 2842, 2849, 2856, 2863, 2877, 2884, 2891, 2898, 2912, 2919, 2926, 2933, 2947, 2954, 2961, 2968, 2982, 2989, 2996, 3003, 3017, 3024, 3031, 3038, 3052, 3059, 3066, 3073, 3087, 3094, 3101, 3108, 3122, 3129, 3136, 3143, 3157, 3164, 3171, 3178, 3192, 3199]\n"
     ]
    }
   ],
   "source": [
    "#24 Write a program which will find all such numbers which are divisible by 7 but are not a multiple of 5, between 2000 and \n",
    "# 3200 (both included). The numbers * obtained should be printed in a comma-separated sequence on a single line.\n",
    "\n",
    "answer=[]\n",
    "for x in range(2000,3200+1):\n",
    "    if x  % 7 == 0 and x % 5 != 0:\n",
    "        answer.append(x)\n",
    "\n",
    "print(answer)"
   ]
  }
 ],
 "metadata": {
  "kernelspec": {
   "display_name": "Python 3.8.5 32-bit",
   "language": "python",
   "name": "python3"
  },
  "language_info": {
   "codemirror_mode": {
    "name": "ipython",
    "version": 3
   },
   "file_extension": ".py",
   "mimetype": "text/x-python",
   "name": "python",
   "nbconvert_exporter": "python",
   "pygments_lexer": "ipython3",
   "version": "3.8.5"
  },
  "orig_nbformat": 4,
  "vscode": {
   "interpreter": {
    "hash": "fbe58ca63fe33f9eeae9e71d10368d2b4a57f2b1b395836210cc60d362c66949"
   }
  }
 },
 "nbformat": 4,
 "nbformat_minor": 2
}
